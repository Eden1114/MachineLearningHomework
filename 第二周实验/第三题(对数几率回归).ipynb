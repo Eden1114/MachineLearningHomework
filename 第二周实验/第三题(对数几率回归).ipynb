{
 "cells": [
  {
   "cell_type": "markdown",
   "metadata": {},
   "source": [
    "# 对数几率回归"
   ]
  },
  {
   "cell_type": "markdown",
   "metadata": {},
   "source": [
    "## 实验内容\n",
    "1. 使用对数几率回归完成垃圾邮件分类问题和Dota2结果预测问题。\n",
    "2. 计算十折交叉验证下的精度(accuracy)，查准率(precision)，查全率(recall)，F1值。\n",
    "\n",
    "## 评测指标  \n",
    "1. 精度\n",
    "2. 查准率\n",
    "3. 查全率\n",
    "4. F1"
   ]
  },
  {
   "cell_type": "markdown",
   "metadata": {},
   "source": [
    "# 1. 读取数据"
   ]
  },
  {
   "cell_type": "code",
   "execution_count": 7,
   "metadata": {
    "collapsed": true
   },
   "outputs": [],
   "source": [
    "import numpy as np"
   ]
  },
  {
   "cell_type": "code",
   "execution_count": 8,
   "metadata": {
    "collapsed": true
   },
   "outputs": [],
   "source": [
    "spambase = np.loadtxt('data/spambase/spambase.data', delimiter = \",\")\n",
    "dota2results = np.loadtxt('data/dota2Dataset/dota2Train.csv', delimiter=',')"
   ]
  },
  {
   "cell_type": "markdown",
   "metadata": {},
   "source": [
    "# 2. 导入模型"
   ]
  },
  {
   "cell_type": "code",
   "execution_count": 9,
   "metadata": {
    "collapsed": true
   },
   "outputs": [],
   "source": [
    "from sklearn.linear_model import LogisticRegression\n",
    "from sklearn.metrics import accuracy_score\n",
    "from sklearn.metrics import precision_score\n",
    "from sklearn.metrics import recall_score\n",
    "from sklearn.metrics import f1_score\n",
    "from sklearn.model_selection import cross_val_predict"
   ]
  },
  {
   "cell_type": "markdown",
   "metadata": {},
   "source": [
    "# 3. 提取数据"
   ]
  },
  {
   "cell_type": "markdown",
   "metadata": {},
   "source": [
    "这里的spamx和dota2x包含了数据集内所有的特征"
   ]
  },
  {
   "cell_type": "code",
   "execution_count": 10,
   "metadata": {
    "collapsed": true
   },
   "outputs": [],
   "source": [
    "spamx = spambase[:, :57]\n",
    "spamy = spambase[:, 57]\n",
    "\n",
    "dota2x = dota2results[:, 1:]\n",
    "dota2y = dota2results[:, 0]"
   ]
  },
  {
   "cell_type": "markdown",
   "metadata": {},
   "source": [
    "# 4. 训练并预测"
   ]
  },
  {
   "cell_type": "markdown",
   "metadata": {},
   "source": [
    "请你完成两个模型使用全部特征的训练与预测，并将预测结果存储起来"
   ]
  },
  {
   "cell_type": "code",
   "execution_count": 11,
   "metadata": {
    "collapsed": true
   },
   "outputs": [],
   "source": [
    "# YOUR CODE HERE\n",
    "\n",
    "spam_model = LogisticRegression()\n",
    "# spam_model.fit(spamx, spamy)\n",
    "# spam_prediction = spam_model.predict(spamx)\n",
    "spam_prediction = cross_val_predict(spam_model, spamx, spamy)\n",
    "\n",
    "dota2_model = LogisticRegression()\n",
    "# dota2_model.fit(dota2x, dota2y)\n",
    "# dota2_prediction = dota2_model.predict(dota2x)\n",
    "dota2_prediction = cross_val_predict(dota2_model, dota2x, dota2y)\n",
    "\n",
    "\n",
    "# print(spam_prediction)\n",
    "# print(dota2_prediction)\n",
    "\n",
    "# 可视化\n",
    "# import matplotlib.pyplot as plt\n",
    "# %matplotlib inline\n",
    "\n",
    "# plt.subplot(121)\n",
    "# plt.plot(spamx, spamy, '.', label = 'training data')\n",
    "# plt.plot(spamx, spam_model.predict(spamx), '-', label = 'prediction')\n",
    "# plt.xlabel('spamX')\n",
    "# plt.ylabel('spamY')\n",
    "# plt.title(\"spam set\")\n",
    "# plt.legend()\n",
    "\n",
    "# plt.subplot(122)\n",
    "# plt.plot(dota2x, dota2y, '.', label = 'training data')\n",
    "# plt.plot(dota2x, dota2_model.predict(dota2x), '-', label = 'prediction')\n",
    "# plt.xlabel('dota2X')\n",
    "# plt.ylabel('dota2Y')\n",
    "# plt.title(\"dota2 set\")\n",
    "# plt.legend()\n"
   ]
  },
  {
   "cell_type": "markdown",
   "metadata": {},
   "source": [
    "# 5. 评价指标的计算"
   ]
  },
  {
   "cell_type": "markdown",
   "metadata": {},
   "source": [
    "请你计算两个模型的四项指标"
   ]
  },
  {
   "cell_type": "code",
   "execution_count": 16,
   "metadata": {},
   "outputs": [
    {
     "name": "stdout",
     "output_type": "stream",
     "text": [
      "0.903933927407 0.88306674021 0.874385581649 0.878704720088\n",
      "0.598445763627 0.676171538682 0.606431092808 0.639405276523\n"
     ]
    }
   ],
   "source": [
    "# YOUR CODE HERE\n",
    "spam_accuracy_score = accuracy_score(spam_prediction, spamy)\n",
    "spam_precision_score = precision_score(spam_prediction, spamy)\n",
    "spam_recall_score = recall_score(spam_prediction, spamy)\n",
    "spam_f1_score = f1_score(spam_prediction, spamy)\n",
    "\n",
    "print(spam_accuracy_score, spam_precision_score, spam_recall_score, spam_f1_score)\n",
    "\n",
    "\n",
    "dota2_accuracy_score = accuracy_score(dota2_prediction, dota2y)\n",
    "dota2_precision_score = precision_score(dota2_prediction, dota2y)\n",
    "dota2_recall_score = recall_score(dota2_prediction, dota2y)\n",
    "dota2_f1_score = f1_score(dota2_prediction, dota2y)\n",
    "\n",
    "print(dota2_accuracy_score, dota2_precision_score, dota2_recall_score, dota2_f1_score)\n",
    "\n"
   ]
  },
  {
   "cell_type": "markdown",
   "metadata": {},
   "source": [
    "###### 双击此处填写\n",
    "\n",
    "数据集|精度|查准率|查全率|F1\n",
    "-|-|-|-|-\n",
    "spambase | 0.903933927407 | 0.88306674021 | 0.874385581649 | 0.878704720088\n",
    "dota2Results | 0.598445763627 | 0.676171538682 | 0.606431092808 | 0.639405276523"
   ]
  },
  {
   "cell_type": "markdown",
   "metadata": {},
   "source": [
    "# 6. 选做：尝试对特征进行变换、筛选、组合后，训练模型并计算十折交叉验证后的四项指标"
   ]
  },
  {
   "cell_type": "code",
   "execution_count": 13,
   "metadata": {
    "collapsed": true
   },
   "outputs": [],
   "source": [
    "# YOUR CODE HERE\n",
    "\n",
    "\n"
   ]
  },
  {
   "cell_type": "markdown",
   "metadata": {},
   "source": [
    "###### 双击此处填写\n",
    "1. 模型1的处理流程：\n",
    "2. 模型2的处理流程：\n",
    "3. 模型3的处理流程:\n",
    "\n",
    "模型|数据集|精度|查准率|查全率|F1\n",
    "-|-|-|-|-|-\n",
    "模型1 | 数据集 | 0.0 | 0.0 | 0.0 | 0.0\n",
    "模型2 | 数据集 | 0.0 | 0.0 | 0.0 | 0.0\n",
    "模型3 | 数据集 | 0.0 | 0.0 | 0.0 | 0.0"
   ]
  },
  {
   "cell_type": "code",
   "execution_count": null,
   "metadata": {
    "collapsed": true
   },
   "outputs": [],
   "source": []
  }
 ],
 "metadata": {
  "kernelspec": {
   "display_name": "Python 3",
   "language": "python",
   "name": "python3"
  },
  "language_info": {
   "codemirror_mode": {
    "name": "ipython",
    "version": 3
   },
   "file_extension": ".py",
   "mimetype": "text/x-python",
   "name": "python",
   "nbconvert_exporter": "python",
   "pygments_lexer": "ipython3",
   "version": "3.6.3"
  }
 },
 "nbformat": 4,
 "nbformat_minor": 2
}
