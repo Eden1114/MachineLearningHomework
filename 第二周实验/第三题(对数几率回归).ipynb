{
 "cells": [
  {
   "cell_type": "markdown",
   "metadata": {},
   "source": [
    "# 对数几率回归"
   ]
  },
  {
   "cell_type": "markdown",
   "metadata": {},
   "source": [
    "## 实验内容\n",
    "1. 使用对数几率回归完成垃圾邮件分类问题和Dota2结果预测问题。\n",
    "2. 计算十折交叉验证下的精度(accuracy)，查准率(precision)，查全率(recall)，F1值。\n",
    "\n",
    "## 评测指标  \n",
    "1. 精度\n",
    "2. 查准率\n",
    "3. 查全率\n",
    "4. F1"
   ]
  },
  {
   "cell_type": "markdown",
   "metadata": {},
   "source": [
    "# 1. 读取数据"
   ]
  },
  {
   "cell_type": "code",
   "execution_count": 13,
   "metadata": {
    "collapsed": true
   },
   "outputs": [],
   "source": [
    "import numpy as np"
   ]
  },
  {
   "cell_type": "code",
   "execution_count": 14,
   "metadata": {
    "collapsed": true
   },
   "outputs": [],
   "source": [
    "spambase = np.loadtxt('data/spambase/spambase.data', delimiter = \",\")\n",
    "dota2results = np.loadtxt('data/dota2Dataset/dota2Train.csv', delimiter=',')"
   ]
  },
  {
   "cell_type": "markdown",
   "metadata": {},
   "source": [
    "# 2. 导入模型"
   ]
  },
  {
   "cell_type": "code",
   "execution_count": 15,
   "metadata": {
    "collapsed": true
   },
   "outputs": [],
   "source": [
    "from sklearn.linear_model import LogisticRegression\n",
    "from sklearn.metrics import accuracy_score\n",
    "from sklearn.metrics import precision_score\n",
    "from sklearn.metrics import recall_score\n",
    "from sklearn.metrics import f1_score\n",
    "from sklearn.model_selection import cross_val_predict"
   ]
  },
  {
   "cell_type": "markdown",
   "metadata": {},
   "source": [
    "# 3. 提取数据"
   ]
  },
  {
   "cell_type": "markdown",
   "metadata": {},
   "source": [
    "这里的spamx和dota2x包含了数据集内所有的特征"
   ]
  },
  {
   "cell_type": "code",
   "execution_count": 16,
   "metadata": {
    "collapsed": true
   },
   "outputs": [],
   "source": [
    "spamx = spambase[:, :57]\n",
    "spamy = spambase[:, 57]\n",
    "\n",
    "dota2x = dota2results[:, 1:]\n",
    "dota2y = dota2results[:, 0]"
   ]
  },
  {
   "cell_type": "markdown",
   "metadata": {},
   "source": [
    "# 4. 训练并预测"
   ]
  },
  {
   "cell_type": "markdown",
   "metadata": {},
   "source": [
    "请你完成两个模型使用全部特征的训练与预测，并将预测结果存储起来"
   ]
  },
  {
   "cell_type": "code",
   "execution_count": 17,
   "metadata": {},
   "outputs": [
    {
     "name": "stdout",
     "output_type": "stream",
     "text": [
      "[ 1.  1.  1. ...,  0.  0.  0.]\n",
      "[ 1.  1.  1. ...,  1. -1.  1.]\n"
     ]
    }
   ],
   "source": [
    "spam_model = LogisticRegression()\n",
    "spam_prediction = cross_val_predict(spam_model, spamx, spamy, cv = 10)\n",
    "print(spam_prediction)\n",
    "\n",
    "\n",
    "dota2_model = LogisticRegression()\n",
    "dota2_prediction = cross_val_predict(dota2_model, dota2x, dota2y, cv = 10)\n",
    "print(dota2_prediction)\n"
   ]
  },
  {
   "cell_type": "markdown",
   "metadata": {},
   "source": [
    "# 5. 评价指标的计算"
   ]
  },
  {
   "cell_type": "markdown",
   "metadata": {},
   "source": [
    "请你计算两个模型的四项指标"
   ]
  },
  {
   "cell_type": "code",
   "execution_count": 18,
   "metadata": {},
   "outputs": [
    {
     "name": "stdout",
     "output_type": "stream",
     "text": [
      "0.917409258857 0.903207653348 0.88527302813 0.894150417827\n",
      "0.598737182947 0.606657721082 0.676561026608 0.639705383534\n"
     ]
    }
   ],
   "source": [
    "# YOUR CODE HERE\n",
    "\n",
    "#spam\n",
    "spam_accuracy_score = accuracy_score(spamy, spam_prediction)\n",
    "spam_precision_score = precision_score(spamy, spam_prediction)\n",
    "spam_recall_score = recall_score(spamy, spam_prediction)\n",
    "spam_f1_score = f1_score(spamy, spam_prediction)\n",
    "\n",
    "print(spam_accuracy_score, spam_precision_score, spam_recall_score, spam_f1_score)\n",
    "\n",
    "#dota2\n",
    "dota2_accuracy_score = accuracy_score(dota2y, dota2_prediction)\n",
    "dota2_precision_score = precision_score(dota2y, dota2_prediction)\n",
    "dota2_recall_score = recall_score(dota2y, dota2_prediction)\n",
    "dota2_f1_score = f1_score(dota2y, dota2_prediction)\n",
    "\n",
    "print(dota2_accuracy_score, dota2_precision_score, dota2_recall_score, dota2_f1_score)\n",
    "\n"
   ]
  },
  {
   "cell_type": "markdown",
   "metadata": {},
   "source": [
    "###### 双击此处填写\n",
    "\n",
    "数据集|精度|查准率|查全率|F1\n",
    "-|-|-|-|-\n",
    "spambase | 0.917409258857 | 0.903207653348 | 0.88527302813 | 0.894150417827\n",
    "dota2Results | 0.598737182947 | 0.606657721082 | 0.676561026608 | 0.639705383534"
   ]
  },
  {
   "cell_type": "markdown",
   "metadata": {},
   "source": [
    "# 6. 选做：尝试对特征进行变换、筛选、组合后，训练模型并计算十折交叉验证后的四项指标"
   ]
  },
  {
   "cell_type": "code",
   "execution_count": 19,
   "metadata": {},
   "outputs": [
    {
     "name": "stdout",
     "output_type": "stream",
     "text": [
      "0.918278635079 0.903878583474 0.886927744071 0.895322939866\n"
     ]
    }
   ],
   "source": [
    "_spamx = spambase[:, :57]\n",
    "_spamy = spambase[:, 57]\n",
    "\n",
    "lr_1 = LogisticRegression()\n",
    "prediction_1 = cross_val_predict(lr_1, _spamx, _spamy, cv = 10)\n",
    "\n",
    "acc_1 = accuracy_score(_spamy, prediction_1)\n",
    "precision_1 = precision_score(_spamy, prediction_1)\n",
    "recall_1 = recall_score(_spamy, prediction_1)\n",
    "f1_1 = f1_score(_spamy, prediction_1)\n",
    "\n",
    "print(acc_1, precision_1, recall_1, f1_1)"
   ]
  },
  {
   "cell_type": "code",
   "execution_count": 20,
   "metadata": {},
   "outputs": [
    {
     "name": "stdout",
     "output_type": "stream",
     "text": [
      "0.896109541404 0.871866295265 0.863210148924 0.867516629712\n"
     ]
    }
   ],
   "source": [
    "_spamx = spambase[:, :47]\n",
    "_spamy = spambase[:, 57]\n",
    "\n",
    "lr_2 = LogisticRegression()\n",
    "prediction_2 = cross_val_predict(lr_2, _spamx, _spamy, cv = 10)\n",
    "\n",
    "acc_2 = accuracy_score(_spamy, prediction_2)\n",
    "precision_2 = precision_score(_spamy, prediction_2)\n",
    "recall_2 = recall_score(_spamy, prediction_2)\n",
    "f1_2 = f1_score(_spamy, prediction_2)\n",
    "\n",
    "print(acc_2, precision_2, recall_2, f1_2)"
   ]
  },
  {
   "cell_type": "code",
   "execution_count": 21,
   "metadata": {},
   "outputs": [
    {
     "name": "stdout",
     "output_type": "stream",
     "text": [
      "0.916974570745 0.905382436261 0.881412024269 0.893236444941\n"
     ]
    }
   ],
   "source": [
    "_spamx = spambase[:, 2:57]\n",
    "_spamy = spambase[:, 57]\n",
    "\n",
    "lr_3 = LogisticRegression()\n",
    "prediction_3 = cross_val_predict(lr_3, _spamx, _spamy, cv = 10)\n",
    "\n",
    "acc_3 = accuracy_score(_spamy, prediction_3)\n",
    "precision_3 = precision_score(_spamy, prediction_3)\n",
    "recall_3 = recall_score(_spamy, prediction_3)\n",
    "f1_3 = f1_score(_spamy, prediction_3)\n",
    "\n",
    "print(acc_3, precision_3, recall_3, f1_3)"
   ]
  },
  {
   "cell_type": "code",
   "execution_count": 22,
   "metadata": {
    "scrolled": true
   },
   "outputs": [
    {
     "name": "stdout",
     "output_type": "stream",
     "text": [
      "0.904151271463 0.889772727273 0.863761720905 0.876574307305\n"
     ]
    }
   ],
   "source": [
    "_spamx = spambase[:, 2:47]\n",
    "_spamy = spambase[:, 57]\n",
    "\n",
    "lr_4 = LogisticRegression()\n",
    "prediction_4 = cross_val_predict(lr_4, _spamx, _spamy, cv = 10)\n",
    "\n",
    "acc_4 = accuracy_score(_spamy, prediction_4)\n",
    "precision_4 = precision_score(_spamy, prediction_4)\n",
    "recall_4 = recall_score(_spamy, prediction_4)\n",
    "f1_4 = f1_score(_spamy, prediction_4)\n",
    "\n",
    "print(acc_4, precision_4, recall_4, f1_4)"
   ]
  },
  {
   "cell_type": "markdown",
   "metadata": {},
   "source": [
    "###### 双击此处填写\n",
    "1. 模型1的处理流程：去掉最后十组数据\n",
    "2. 模型2的处理流程：去掉第一项数据\n",
    "3. 模型3的处理流程: 去掉第一项数据和后十项数据\n",
    "\n",
    "模型|数据集|精度|查准率|查全率|F1\n",
    "-|-|-|-|-|-\n",
    "模型1 | 数据集 | 0.896109541404 | 0.871866295265 | 0.863210148924 | 0.867516629712\n",
    "模型2 | 数据集 | 0.915670506412 | 0.903225806452 | 0.880308880309 | 0.891620111732\n",
    "模型3 | 数据集 | 0.904151271463 | 0.889772727273 | 0.863761720905 | 0.876574307305"
   ]
  },
  {
   "cell_type": "code",
   "execution_count": null,
   "metadata": {
    "collapsed": true
   },
   "outputs": [],
   "source": []
  }
 ],
 "metadata": {
  "kernelspec": {
   "display_name": "Python 3",
   "language": "python",
   "name": "python3"
  },
  "language_info": {
   "codemirror_mode": {
    "name": "ipython",
    "version": 3
   },
   "file_extension": ".py",
   "mimetype": "text/x-python",
   "name": "python",
   "nbconvert_exporter": "python",
   "pygments_lexer": "ipython3",
   "version": "3.6.3"
  }
 },
 "nbformat": 4,
 "nbformat_minor": 2
}
