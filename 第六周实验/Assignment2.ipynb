{
 "cells": [
  {
   "cell_type": "markdown",
   "metadata": {},
   "source": [
    "# 第二题：使用sklearn的BernoulliNB完成spambase垃圾邮件分类任务\n",
    "\n",
    "实验内容：\n",
    "1. 使用BernoulliNB完成spambase邮件分类\n",
    "2. 计算十折交叉验证的精度、查准率、查全率、F1值"
   ]
  },
  {
   "cell_type": "markdown",
   "metadata": {},
   "source": [
    "# 1. 读取数据集"
   ]
  },
  {
   "cell_type": "code",
   "execution_count": 1,
   "metadata": {
    "collapsed": true
   },
   "outputs": [],
   "source": [
    "import numpy as np\n",
    "spambase = np.loadtxt('data/spambase/spambase.data', delimiter = \",\")\n",
    "spamx = spambase[:, :57]\n",
    "spamy = spambase[:, 57]"
   ]
  },
  {
   "cell_type": "markdown",
   "metadata": {},
   "source": [
    "# 2. 导入模型\n",
    "\n",
    "这里我们使用伯努利分布的朴素贝叶斯"
   ]
  },
  {
   "cell_type": "code",
   "execution_count": 2,
   "metadata": {
    "collapsed": true
   },
   "outputs": [],
   "source": [
    "from sklearn.naive_bayes import BernoulliNB\n",
    "from sklearn.model_selection import cross_val_predict"
   ]
  },
  {
   "cell_type": "markdown",
   "metadata": {},
   "source": [
    "# 3. 数据预处理\n",
    "\n",
    "伯努利分布的朴素贝叶斯要求特征都服从伯努利分布，这里我们将所有的特征转换为二值型，如果不为0，则为1。"
   ]
  },
  {
   "cell_type": "code",
   "execution_count": 3,
   "metadata": {
    "collapsed": true
   },
   "outputs": [],
   "source": [
    "spamx_binary = (spamx != 0).astype('float64')"
   ]
  },
  {
   "cell_type": "code",
   "execution_count": 4,
   "metadata": {},
   "outputs": [
    {
     "data": {
      "text/plain": [
       "array([[ 0.,  1.,  1., ...,  1.,  1.,  1.],\n",
       "       [ 1.,  1.,  1., ...,  1.,  1.,  1.],\n",
       "       [ 1.,  0.,  1., ...,  1.,  1.,  1.],\n",
       "       ..., \n",
       "       [ 1.,  0.,  1., ...,  1.,  1.,  1.],\n",
       "       [ 1.,  0.,  0., ...,  1.,  1.,  1.],\n",
       "       [ 0.,  0.,  1., ...,  1.,  1.,  1.]])"
      ]
     },
     "execution_count": 4,
     "metadata": {},
     "output_type": "execute_result"
    }
   ],
   "source": [
    "spamx_binary"
   ]
  },
  {
   "cell_type": "markdown",
   "metadata": {},
   "source": [
    "这样我们就得到了二值型的数据集"
   ]
  },
  {
   "cell_type": "markdown",
   "metadata": {},
   "source": [
    "# 4. 计算十折交叉验证下，BernoulliNB的精度、查准率、查全率、F1值"
   ]
  },
  {
   "cell_type": "markdown",
   "metadata": {},
   "source": [
    "###### 双击此处填写\n",
    "\n",
    "精度|查准率|查全率|F1值\n",
    "-|-|-|-\n",
    "0.884590306455 | 0.88245823389 | 0.815774958632 | 0.847807394669"
   ]
  },
  {
   "cell_type": "code",
   "execution_count": 6,
   "metadata": {},
   "outputs": [
    {
     "name": "stdout",
     "output_type": "stream",
     "text": [
      "0.884590306455 0.88245823389 0.815774958632 0.847807394669\n"
     ]
    }
   ],
   "source": [
    "# YOUR CODE HERE\n",
    "model = BernoulliNB()\n",
    "from sklearn.model_selection import cross_val_predict\n",
    "prediction = cross_val_predict(model, spamx_binary, spamy, cv=10)\n",
    "\n",
    "from sklearn.metrics import accuracy_score\n",
    "from sklearn.metrics import precision_score\n",
    "from sklearn.metrics import recall_score\n",
    "from sklearn.metrics import f1_score\n",
    "\n",
    "a = accuracy_score(spamy, prediction)\n",
    "p = precision_score(spamy, prediction)\n",
    "r = recall_score(spamy, prediction)\n",
    "f = f1_score(spamy, prediction)\n",
    "\n",
    "print(a, p, r, f)\n",
    "\n"
   ]
  },
  {
   "cell_type": "code",
   "execution_count": null,
   "metadata": {
    "collapsed": true
   },
   "outputs": [],
   "source": []
  }
 ],
 "metadata": {
  "kernelspec": {
   "display_name": "Python 3",
   "language": "python",
   "name": "python3"
  },
  "language_info": {
   "codemirror_mode": {
    "name": "ipython",
    "version": 3
   },
   "file_extension": ".py",
   "mimetype": "text/x-python",
   "name": "python",
   "nbconvert_exporter": "python",
   "pygments_lexer": "ipython3",
   "version": "3.6.3"
  }
 },
 "nbformat": 4,
 "nbformat_minor": 2
}
