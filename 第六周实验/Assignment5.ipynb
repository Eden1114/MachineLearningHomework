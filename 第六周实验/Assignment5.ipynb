{
 "cells": [
  {
   "cell_type": "markdown",
   "metadata": {},
   "source": [
    "# 第五题：实现带有拉普拉斯修正的朴素贝叶斯"
   ]
  },
  {
   "cell_type": "markdown",
   "metadata": {},
   "source": [
    "实验内容：\n",
    "1. 叙述拉普拉斯修正的作用\n",
    "2. 给出使用的数据集\n",
    "3. 给出实现的代码，要有详细的注释\n",
    "4. 给出模型评价指标的结果"
   ]
  },
  {
   "cell_type": "markdown",
   "metadata": {},
   "source": [
    "## 处理二值化数据集"
   ]
  },
  {
   "cell_type": "code",
   "execution_count": 1,
   "metadata": {
    "collapsed": true
   },
   "outputs": [],
   "source": [
    "import numpy as np\n",
    "spambase = np.loadtxt('data/spambase/spambase.data', delimiter = \",\")\n",
    "spamx = spambase[:, :57]\n",
    "spamy = spambase[:, 57]"
   ]
  },
  {
   "cell_type": "code",
   "execution_count": 2,
   "metadata": {
    "collapsed": true
   },
   "outputs": [],
   "source": [
    "spamx_binary = (spamx != 0).astype('float64')"
   ]
  },
  {
   "cell_type": "code",
   "execution_count": 3,
   "metadata": {},
   "outputs": [
    {
     "name": "stdout",
     "output_type": "stream",
     "text": [
      "[[ 1.  1.  1. ...,  1.  1.  1.]\n",
      " [ 0.  1.  0. ...,  1.  1.  1.]\n",
      " [ 0.  0.  1. ...,  1.  1.  1.]\n",
      " ..., \n",
      " [ 0.  0.  0. ...,  1.  1.  1.]\n",
      " [ 1.  1.  1. ...,  1.  1.  1.]\n",
      " [ 0.  0.  0. ...,  1.  1.  1.]] [ 1.  0.  0. ...,  1.  1.  0.] [[ 0.  0.  0. ...,  1.  1.  1.]\n",
      " [ 0.  0.  1. ...,  1.  1.  1.]\n",
      " [ 1.  0.  1. ...,  1.  1.  1.]\n",
      " ..., \n",
      " [ 1.  1.  1. ...,  1.  1.  1.]\n",
      " [ 0.  0.  0. ...,  1.  1.  1.]\n",
      " [ 0.  1.  1. ...,  1.  1.  1.]] [ 0.  1.  1. ...,  1.  0.  0.]\n"
     ]
    }
   ],
   "source": [
    "from sklearn.model_selection import train_test_split\n",
    "trainX, testX, trainY, testY = train_test_split(spamx_binary, spamy, test_size=0.3, random_state=32)\n",
    "print(trainX, trainY, testX, testY)"
   ]
  },
  {
   "cell_type": "markdown",
   "metadata": {},
   "source": [
    "## 带有Laplace修正的伯努利分布朴素贝叶斯"
   ]
  },
  {
   "cell_type": "code",
   "execution_count": 4,
   "metadata": {
    "collapsed": true
   },
   "outputs": [],
   "source": [
    "class MyBernoulliNBwithLaplace():\n",
    "    '''\n",
    "    处理二值特征的朴素贝叶斯，带有拉普拉斯平滑。\n",
    "    '''\n",
    "    def __init__(self):\n",
    "        '''\n",
    "        初始化四个字典\n",
    "        self.label_mapping     类标记 与 下标(int)\n",
    "        self.probability_of_y  类标记 与 先验概率(float)\n",
    "        self.probability_ofx_y 类标记 与 已知y的后验概率(dict)\n",
    "        '''\n",
    "        self.label_mapping = dict()\n",
    "        self.probability_of_y = dict()\n",
    "        self.probability_of_x_y = dict()\n",
    "        \n",
    "        \n",
    "    def _clear(self):\n",
    "        '''\n",
    "        为了防止一个实例反复的调用fit方法，我们需要每次调用fit前，将之前学习到的参数删除掉\n",
    "        '''\n",
    "        self.label_mapping.clear()\n",
    "        self.probability_of_y.clear()\n",
    "        self.probability_of_x_y.clear()\n",
    "    \n",
    "    \n",
    "    def fit(self, trainX, trainY):\n",
    "        '''\n",
    "        这里，我们要根据trainY内的类标记，针对每类，计算这类的先验概率，以及这类训练样本每个特征的均值和方差\n",
    "\n",
    "        Parameters\n",
    "        ----------\n",
    "            trainX: np.ndarray, 训练样本的特征, 维度：(样本数, 特征数)\n",
    "            trainY: np.ndarray, 训练样本的标记, 维度：(样本数, )\n",
    "        '''\n",
    "        \n",
    "        # 先调用_clear\n",
    "        self._clear()\n",
    "        \n",
    "        # 获取类标记\n",
    "        labels = np.unique(trainY)\n",
    "        \n",
    "        # 添加类标记与下标的映射关系\n",
    "        self.label_mapping = {label: index for index, label in enumerate(labels)}\n",
    "        \n",
    "        # 遍历每个类\n",
    "        for label in labels:\n",
    "            # 取出为label这类的所有训练样本，存为 x\n",
    "            x = trainX[trainY == label, :]\n",
    "            # 计算先验概率，用 x 的样本个数除以训练样本总个数，存储到 self.probability_of_y 中，键为 label，值为先验概率\n",
    "\n",
    "#             Laplace\n",
    "            self.probability_of_y[label] = (len(x) + 1) / (len(trainX) + len(labels))    \n",
    "            self.probability_of_x_y[label] = (x.sum(axis=0) + 1) / (len(x) + len(labels)) # 二值匹配\n",
    "#             Non_Laplace\n",
    "#             self.probability_of_y[label] = (len(x) ) / (len(trainX))    \n",
    "#             self.probability_of_x_y[label] = (x.sum(axis=0) ) / (len(x)) # 二值匹配\n",
    "\n",
    "    def predict(self, testX):\n",
    "        '''\n",
    "        给定测试样本，预测测试样本的类标记，这里我们要实现化简后的公式\n",
    "\n",
    "        Parameters\n",
    "        ----------\n",
    "            testX: np.ndarray, 测试的特征, 维度：(测试样本数, 特征数)\n",
    "    \n",
    "        Returns\n",
    "        ----------\n",
    "            prediction: np.ndarray, 预测结果, 维度：(测试样本数, )\n",
    "        '''\n",
    "        prediction = np.zeros(testX.shape[0], )\n",
    "        \n",
    "        for i in range(testX.shape[0]):\n",
    "            # 枚举每一个样本\n",
    "            \n",
    "            mx = -1\n",
    "            predict_label = None\n",
    "            \n",
    "            for label in self.label_mapping.keys():\n",
    "                probability = 1\n",
    "                for j in range(testX.shape[1]):\n",
    "                    probability *= (self.probability_of_x_y[label][j] if testX[i][j] == 1 else 1-self.probability_of_x_y[label][j])\n",
    "                \n",
    "                if probability > mx:\n",
    "                    mx = probability\n",
    "                    predict_label = label\n",
    "                \n",
    "            prediction[i] = self.label_mapping[predict_label]\n",
    "        return prediction"
   ]
  },
  {
   "cell_type": "markdown",
   "metadata": {},
   "source": [
    "## 我自己实现的预测"
   ]
  },
  {
   "cell_type": "code",
   "execution_count": 5,
   "metadata": {},
   "outputs": [
    {
     "name": "stdout",
     "output_type": "stream",
     "text": [
      "[ 0.  1.  1. ...,  1.  0.  0.]\n"
     ]
    }
   ],
   "source": [
    "cls = MyBernoulliNBwithLaplace()\n",
    "cls.fit(trainX, trainY)\n",
    "prediction = cls.predict(testX)\n",
    "print(prediction)"
   ]
  },
  {
   "cell_type": "code",
   "execution_count": 6,
   "metadata": {},
   "outputs": [
    {
     "name": "stdout",
     "output_type": "stream",
     "text": [
      "0.884146341463 0.89283128168 0.826996197719 0.854616895874\n"
     ]
    }
   ],
   "source": [
    "from sklearn.metrics import precision_score\n",
    "from sklearn.metrics import accuracy_score\n",
    "from sklearn.metrics import recall_score\n",
    "from sklearn.metrics import f1_score\n",
    "\n",
    "p = precision_score(testY, prediction)\n",
    "a = accuracy_score(testY, prediction)\n",
    "r = recall_score(testY, prediction)\n",
    "f = f1_score(testY, prediction)\n",
    "print(p,a,r,f)"
   ]
  },
  {
   "cell_type": "markdown",
   "metadata": {},
   "source": [
    "## sklearn实现的预测"
   ]
  },
  {
   "cell_type": "code",
   "execution_count": 7,
   "metadata": {
    "scrolled": false
   },
   "outputs": [
    {
     "name": "stdout",
     "output_type": "stream",
     "text": [
      "[ 0.  1.  1. ...,  1.  0.  0.]\n",
      "0.883817427386 0.887038377987 0.809885931559 0.845238095238\n"
     ]
    }
   ],
   "source": [
    "from sklearn.naive_bayes import BernoulliNB\n",
    "clf = BernoulliNB()\n",
    "clf.fit(trainX, trainY)\n",
    "prediction = clf.predict(testX)\n",
    "print(prediction)\n",
    "\n",
    "p = precision_score(testY, prediction)\n",
    "a = accuracy_score(testY, prediction)\n",
    "r = recall_score(testY, prediction)\n",
    "f = f1_score(testY, prediction)\n",
    "\n",
    "print(p,a,r,f)"
   ]
  }
 ],
 "metadata": {
  "kernelspec": {
   "display_name": "Python 3",
   "language": "python",
   "name": "python3"
  },
  "language_info": {
   "codemirror_mode": {
    "name": "ipython",
    "version": 3
   },
   "file_extension": ".py",
   "mimetype": "text/x-python",
   "name": "python",
   "nbconvert_exporter": "python",
   "pygments_lexer": "ipython3",
   "version": "3.6.3"
  }
 },
 "nbformat": 4,
 "nbformat_minor": 2
}
