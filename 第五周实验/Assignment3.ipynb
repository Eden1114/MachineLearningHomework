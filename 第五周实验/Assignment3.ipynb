{
 "cells": [
  {
   "cell_type": "markdown",
   "metadata": {},
   "source": [
    "# 第三题：支持向量机的分类任务\n",
    "\n",
    "实验内容：\n",
    "1. 使用支持向量机完成spambase垃圾邮件分类任务\n",
    "2. 使用训练集训练模型，计算测试集的精度，查准率，查全率，F1值"
   ]
  },
  {
   "cell_type": "markdown",
   "metadata": {},
   "source": [
    "## 请你使用SVC，完成spambase分类任务\n",
    "\n",
    "要求：使用全部特征，完成以下内容的填写\n",
    "\n",
    "###### 双击此处填写\n",
    "\n",
    "核函数 | C | 精度 | 查准率 | 查全率 | F1\n",
    "- | - | - | - | - | -\n",
    "rbf | 0.1 | 0.741491672701 | 0.642978003384 | 0.722433460076 | 0.680393912265\n",
    "rbf | 1 | 0.829833454019 | 0.765027322404 | 0.798479087452 | 0.781395348837\n",
    "linear | 0.1 | 0.900072411296 | 0.902489626556 | 0.826996197719 | 0.863095238095\n",
    "linear | 1 | 0.874728457639| 0.826247689464 | 0.849809885932 | 0.83786316776\n",
    "sigmoid | 0.1 | 0.45981173063 | 0.0634920634921 | 0.0304182509506 | 0.0411311053985\n",
    "sigmoid | 1 | 0.37074583635 | 0.129589632829 | 0.114068441065 | 0.121334681496"
   ]
  },
  {
   "cell_type": "code",
   "execution_count": 1,
   "metadata": {
    "collapsed": true
   },
   "outputs": [],
   "source": [
    "# 导入数据\n",
    "import numpy as np\n",
    "data = np.loadtxt('data/spambase/spambase.data', delimiter = \",\")\n",
    "spamx = data[:, :57]\n",
    "spamy = data[:, 57]"
   ]
  },
  {
   "cell_type": "code",
   "execution_count": 2,
   "metadata": {},
   "outputs": [
    {
     "data": {
      "text/plain": [
       "((3220, 57), (3220,), (1381, 57), (1381,))"
      ]
     },
     "execution_count": 2,
     "metadata": {},
     "output_type": "execute_result"
    }
   ],
   "source": [
    "# 数据集分割\n",
    "from sklearn.model_selection import train_test_split\n",
    "trainX, testX, trainY, testY = train_test_split(spamx, spamy, test_size = 0.3, random_state = 32)\n",
    "trainX.shape, trainY.shape, testX.shape, testY.shape"
   ]
  },
  {
   "cell_type": "markdown",
   "metadata": {},
   "source": [
    "**注意：计算线性核的时候，要使用 LinearSVC 这个类，不要使用SVC(kernel = 'linear')。LinearSVC不需要设置kernel参数！**"
   ]
  },
  {
   "cell_type": "code",
   "execution_count": 3,
   "metadata": {
    "collapsed": true
   },
   "outputs": [],
   "source": [
    "# 引入模型\n",
    "from sklearn.svm import SVC\n",
    "from sklearn.svm import LinearSVC"
   ]
  },
  {
   "cell_type": "code",
   "execution_count": 12,
   "metadata": {},
   "outputs": [
    {
     "name": "stdout",
     "output_type": "stream",
     "text": [
      "linear, C=1\n",
      "0.874728457639 0.826247689464 0.849809885932 0.83786316776\n",
      "linear, C=0.1\n",
      "0.900072411296 0.902489626556 0.826996197719 0.863095238095\n"
     ]
    }
   ],
   "source": [
    "from sklearn.metrics import accuracy_score,precision_score,recall_score,f1_score\n",
    "\n",
    "# LinearSVC C=1\n",
    "clf1 = LinearSVC(C=1, random_state = 32)\n",
    "clf1.fit(trainX,trainY)\n",
    "prediction = clf1.predict(testX)\n",
    "\n",
    "a = accuracy_score(testY, prediction)\n",
    "p = precision_score(testY, prediction)\n",
    "r = recall_score(testY, prediction)\n",
    "f = f1_score(testY, prediction)\n",
    "print('linear, C=1')\n",
    "print(a,p,r,f)\n",
    "\n",
    "# LinearSVC C=0.1\n",
    "clf2 = LinearSVC(C=0.1, random_state = 32)\n",
    "clf2.fit(trainX,trainY)\n",
    "prediction = clf2.predict(testX)\n",
    "\n",
    "a = accuracy_score(testY, prediction)\n",
    "p = precision_score(testY, prediction)\n",
    "r = recall_score(testY, prediction)\n",
    "f = f1_score(testY, prediction)\n",
    "print('linear, C=0.1')\n",
    "print(a,p,r,f)"
   ]
  },
  {
   "cell_type": "code",
   "execution_count": 15,
   "metadata": {},
   "outputs": [
    {
     "name": "stdout",
     "output_type": "stream",
     "text": [
      "rbf, C=1\n",
      "0.829833454019 0.765027322404 0.798479087452 0.781395348837\n",
      "rbf, C=0.1\n",
      "0.741491672701 0.642978003384 0.722433460076 0.680393912265\n"
     ]
    }
   ],
   "source": [
    "# rbf SVC C=1\n",
    "clf3 = SVC(kernel='rbf', C=1, random_state = 32)\n",
    "clf3.fit(trainX,trainY)\n",
    "prediction = clf3.predict(testX)\n",
    "\n",
    "a = accuracy_score(testY, prediction)\n",
    "p = precision_score(testY, prediction)\n",
    "r = recall_score(testY, prediction)\n",
    "f = f1_score(testY, prediction)\n",
    "print('rbf, C=1')\n",
    "print(a,p,r,f)\n",
    "\n",
    "# rbf SVC C=0.1\n",
    "clf4 = SVC(kernel='rbf', C=0.1, random_state = 32)\n",
    "clf4.fit(trainX,trainY)\n",
    "prediction = clf4.predict(testX)\n",
    "\n",
    "a = accuracy_score(testY, prediction)\n",
    "p = precision_score(testY, prediction)\n",
    "r = recall_score(testY, prediction)\n",
    "f = f1_score(testY, prediction)\n",
    "print('rbf, C=0.1')\n",
    "print(a,p,r,f)"
   ]
  },
  {
   "cell_type": "code",
   "execution_count": 16,
   "metadata": {},
   "outputs": [
    {
     "name": "stdout",
     "output_type": "stream",
     "text": [
      "sigmoid, C=1\n",
      "0.37074583635 0.129589632829 0.114068441065 0.121334681496\n",
      "sigmoid, C=0.1\n",
      "0.45981173063 0.0634920634921 0.0304182509506 0.0411311053985\n"
     ]
    }
   ],
   "source": [
    "# sigmoid SVC C=1\n",
    "clf5 = SVC(kernel='sigmoid', C=1, random_state = 32)\n",
    "clf5.fit(trainX,trainY)\n",
    "prediction = clf5.predict(testX)\n",
    "\n",
    "a = accuracy_score(testY, prediction)\n",
    "p = precision_score(testY, prediction)\n",
    "r = recall_score(testY, prediction)\n",
    "f = f1_score(testY, prediction)\n",
    "print('sigmoid, C=1')\n",
    "print(a,p,r,f)\n",
    "\n",
    "# sigmoidSVC C=0.1\n",
    "clf6 = SVC(kernel='sigmoid', C=0.1, random_state = 32)\n",
    "clf6.fit(trainX,trainY)\n",
    "prediction = clf6.predict(testX)\n",
    "\n",
    "a = accuracy_score(testY, prediction)\n",
    "p = precision_score(testY, prediction)\n",
    "r = recall_score(testY, prediction)\n",
    "f = f1_score(testY, prediction)\n",
    "print('sigmoid, C=0.1')\n",
    "print(a,p,r,f)"
   ]
  },
  {
   "cell_type": "markdown",
   "metadata": {},
   "source": [
    "# 选做：比较LinearSVC和SVR(kernel = 'linear')的运行时间"
   ]
  },
  {
   "cell_type": "code",
   "execution_count": 10,
   "metadata": {},
   "outputs": [
    {
     "name": "stdout",
     "output_type": "stream",
     "text": [
      "0.21484589576721191 273.9207260608673\n"
     ]
    }
   ],
   "source": [
    "# YOUR CODE HERE\n",
    "import time\n",
    "\n",
    "clf1 = LinearSVC(C=1, random_state = 32)\n",
    "clf2 = SVC(kernel = 'linear', C = 1, random_state = 32)\n",
    "\n",
    "time1 = time.time()\n",
    "clf1.fit(trainX,trainY)\n",
    "dt1 = time.time() - time1\n",
    "\n",
    "time2 = time.time()\n",
    "clf2.fit(trainX,trainY)\n",
    "dt2 = time.time() - time2\n",
    "\n",
    "print(dt1,dt2)"
   ]
  },
  {
   "cell_type": "markdown",
   "metadata": {},
   "source": [
    "LinearSVC快很多"
   ]
  },
  {
   "cell_type": "code",
   "execution_count": null,
   "metadata": {
    "collapsed": true
   },
   "outputs": [],
   "source": []
  }
 ],
 "metadata": {
  "kernelspec": {
   "display_name": "Python 3",
   "language": "python",
   "name": "python3"
  },
  "language_info": {
   "codemirror_mode": {
    "name": "ipython",
    "version": 3
   },
   "file_extension": ".py",
   "mimetype": "text/x-python",
   "name": "python",
   "nbconvert_exporter": "python",
   "pygments_lexer": "ipython3",
   "version": "3.6.3"
  }
 },
 "nbformat": 4,
 "nbformat_minor": 2
}
