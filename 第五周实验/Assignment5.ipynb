{
 "cells": [
  {
   "cell_type": "markdown",
   "metadata": {},
   "source": [
    "# 第五题（选做）：完成dota2比赛结果预测任务\n",
    "\n",
    "实验内容：\n",
    "1. 使用你学过的算法完成dota2比赛结果预测\n",
    "2. 对比它们的精度、查准率、查全率、F1值\n",
    "\n",
    "## 结果写入到markdown的表格中！"
   ]
  },
  {
   "cell_type": "code",
   "execution_count": 8,
   "metadata": {
    "collapsed": true
   },
   "outputs": [],
   "source": [
    "# 加载数据集\n",
    "import numpy as np\n",
    "dota2results = np.loadtxt('data/dota2Dataset/dota2Train.csv', delimiter=',')\n",
    "\n",
    "dota2x = dota2results[:, 1:]\n",
    "dota2y = dota2results[:, 0]"
   ]
  },
  {
   "cell_type": "code",
   "execution_count": 9,
   "metadata": {
    "collapsed": true
   },
   "outputs": [],
   "source": [
    "from sklearn.model_selection import train_test_split\n",
    "trainX, testX, trainY, testY = train_test_split(dota2x, dota2y, test_size = 0.3, random_state = 32)"
   ]
  },
  {
   "cell_type": "code",
   "execution_count": 10,
   "metadata": {},
   "outputs": [
    {
     "data": {
      "text/plain": [
       "((64855, 116), (64855,), (27795, 116), (27795,))"
      ]
     },
     "execution_count": 10,
     "metadata": {},
     "output_type": "execute_result"
    }
   ],
   "source": [
    "trainX.shape,trainY.shape,testX.shape,testY.shape"
   ]
  },
  {
   "cell_type": "code",
   "execution_count": 11,
   "metadata": {},
   "outputs": [
    {
     "name": "stdout",
     "output_type": "stream",
     "text": [
      "0.563338729987 0.553253934496 0.888395601393 0.681869413646\n"
     ]
    }
   ],
   "source": [
    "from sklearn.metrics import accuracy_score\n",
    "from sklearn.metrics import precision_score\n",
    "from sklearn.metrics import recall_score\n",
    "from sklearn.metrics import f1_score\n",
    "from sklearn.svm import SVC\n",
    "\n",
    "cls = SVC(kernel='rbf', C=0.1, random_state=32)\n",
    "cls.fit(trainX, trainY)\n",
    "prediction = cls.predict(testX)\n",
    "\n",
    "a = accuracy_score(testY, prediction)\n",
    "p = precision_score(testY, prediction)\n",
    "r = recall_score(testY, prediction)\n",
    "f = f1_score(testY, prediction)\n",
    "\n",
    "print(a,p,r,f)"
   ]
  },
  {
   "cell_type": "markdown",
   "metadata": {},
   "source": [
    "精度|查准率|查全率|F1值\n",
    "-|-|-|-\n",
    "0.588451160281 | 0.595668194482 | 0.679446437724 | 0.634805095297"
   ]
  },
  {
   "cell_type": "code",
   "execution_count": null,
   "metadata": {},
   "outputs": [],
   "source": [
    "from sklearn.svm import LinearSVC\n",
    "cls = LinearSVC(C=0.1, random_state=32)\n",
    "cls.fit(trainX, trainY)\n",
    "prediction = cls.predict(testX)\n",
    "\n",
    "a = accuracy_score(testY, prediction)\n",
    "p = precision_score(testY, prediction)\n",
    "r = recall_score(testY, prediction)\n",
    "f = f1_score(testY, prediction)\n",
    "\n",
    "print(a,p,r,f)"
   ]
  },
  {
   "cell_type": "code",
   "execution_count": null,
   "metadata": {
    "collapsed": true
   },
   "outputs": [],
   "source": [
    "cls = SVC(kernel='sigmoid', C=0.1, random_state=32)\n",
    "cls.fit(trainX, trainY)\n",
    "prediction = cls.predict(testX)\n",
    "\n",
    "a = accuracy_score(testY, prediction)\n",
    "p = precision_score(testY, prediction)\n",
    "r = recall_score(testY, prediction)\n",
    "f = f1_score(testY, prediction)\n",
    "\n",
    "print(a,p,r,f)"
   ]
  },
  {
   "cell_type": "code",
   "execution_count": null,
   "metadata": {
    "collapsed": true
   },
   "outputs": [],
   "source": []
  }
 ],
 "metadata": {
  "kernelspec": {
   "display_name": "Python 3",
   "language": "python",
   "name": "python3"
  },
  "language_info": {
   "codemirror_mode": {
    "name": "ipython",
    "version": 3
   },
   "file_extension": ".py",
   "mimetype": "text/x-python",
   "name": "python",
   "nbconvert_exporter": "python",
   "pygments_lexer": "ipython3",
   "version": "3.6.3"
  }
 },
 "nbformat": 4,
 "nbformat_minor": 2
}
