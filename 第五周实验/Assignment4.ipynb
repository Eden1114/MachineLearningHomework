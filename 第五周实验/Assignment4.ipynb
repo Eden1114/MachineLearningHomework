{
 "cells": [
  {
   "cell_type": "markdown",
   "metadata": {},
   "source": [
    "# 第四题：支持向量机的回归任务\n",
    "\n",
    "实验内容：\n",
    "1. 使用支持向量机完成kaggle房价预测问题\n",
    "2. 使用训练集训练模型，计算测试集的MAE和RMSE"
   ]
  },
  {
   "cell_type": "markdown",
   "metadata": {},
   "source": [
    "## 请你使用SVR，完成kaggle房价预测问题\n",
    "\n",
    "要求：使用'LotArea', 'BsmtUnfSF', 'GarageArea'作为特征，完成以下内容的填写\n",
    "\n",
    "###### 双击此处填写\n",
    "\n",
    "核函数 | C | MAE | RMSE\n",
    "- | - | - | - \n",
    "rbf | 0.1 | 56514.1778413 | 79839.0103751\n",
    "rbf | 1 | 56514.171564 | 79838.9086218\n",
    "linear | 0.1 | 44803.2722351 | 67977.8143179\n",
    "linear | 1 | 51561.8162527 | 70100.3246036\n",
    "sigmoid | 0.1 | 56514.1785388 | 79839.0216812\n",
    "sigmoid | 1 | 56514.1785388 | 79839.0216812"
   ]
  },
  {
   "cell_type": "code",
   "execution_count": 1,
   "metadata": {
    "collapsed": true
   },
   "outputs": [],
   "source": [
    "import numpy as np\n",
    "import pandas as pd\n",
    "\n",
    "# 读取数据\n",
    "data = pd.read_csv('data/kaggle_house_price_prediction/kaggle_hourse_price_train.csv')\n",
    "\n",
    "# 使用这3列作为特征\n",
    "features = ['LotArea', 'BsmtUnfSF', 'GarageArea']\n",
    "target = 'SalePrice'\n",
    "data = data[features + [target]]"
   ]
  },
  {
   "cell_type": "code",
   "execution_count": 2,
   "metadata": {},
   "outputs": [
    {
     "data": {
      "text/plain": [
       "((1022, 3), (1022,), (438, 3), (438,))"
      ]
     },
     "execution_count": 2,
     "metadata": {},
     "output_type": "execute_result"
    }
   ],
   "source": [
    "# 数据集分割\n",
    "from sklearn.model_selection import train_test_split\n",
    "trainX, testX, trainY, testY = train_test_split(data[features], data[target], test_size = 0.3, random_state = 32)\n",
    "trainX.shape, trainY.shape, testX.shape, testY.shape"
   ]
  },
  {
   "cell_type": "markdown",
   "metadata": {},
   "source": [
    "**注意：计算线性核的时候，要使用 LinearSVR 这个类，不要使用SVR(kernel = 'linear')。LinearSVR不需要设置kernel参数！**"
   ]
  },
  {
   "cell_type": "code",
   "execution_count": 3,
   "metadata": {
    "collapsed": true
   },
   "outputs": [],
   "source": [
    "# 引入模型\n",
    "from sklearn.svm import SVR\n",
    "from sklearn.svm import LinearSVR\n",
    "from sklearn.metrics import mean_absolute_error\n",
    "from sklearn.metrics import mean_squared_error"
   ]
  },
  {
   "cell_type": "code",
   "execution_count": 4,
   "metadata": {},
   "outputs": [
    {
     "name": "stdout",
     "output_type": "stream",
     "text": [
      "linear C=1 51561.8162527 70100.3246036\n",
      "linear C=0.1 44803.2722351 67977.8143179\n"
     ]
    }
   ],
   "source": [
    "# linearSVR\n",
    "reg1 = LinearSVR(random_state=32,C=1)\n",
    "reg1.fit(trainX, trainY)\n",
    "prediction = reg1.predict(testX)\n",
    "\n",
    "mae = mean_absolute_error(testY, prediction)\n",
    "mse = mean_squared_error(testY, prediction)\n",
    "rmse = np.sqrt(mse)\n",
    "\n",
    "print('linear C=1',mae, rmse)\n",
    "\n",
    "reg2 = LinearSVR(random_state=32,C=0.1)\n",
    "reg2.fit(trainX, trainY)\n",
    "prediction = reg2.predict(testX)\n",
    "\n",
    "mae = mean_absolute_error(testY, prediction)\n",
    "mse = mean_squared_error(testY, prediction)\n",
    "rmse = np.sqrt(mse)\n",
    "\n",
    "print('linear C=0.1',mae, rmse)\n"
   ]
  },
  {
   "cell_type": "code",
   "execution_count": 5,
   "metadata": {},
   "outputs": [
    {
     "name": "stdout",
     "output_type": "stream",
     "text": [
      "rbf C=1 56514.171564 79838.9086218\n",
      "rbf C=0.1 56514.1778413 79839.0103751\n"
     ]
    }
   ],
   "source": [
    "reg3 = SVR(kernel='rbf',C=1)\n",
    "reg3.fit(trainX, trainY)\n",
    "prediction = reg3.predict(testX)\n",
    "\n",
    "mae = mean_absolute_error(testY, prediction)\n",
    "mse = mean_squared_error(testY, prediction)\n",
    "rmse = np.sqrt(mse)\n",
    "\n",
    "print('rbf C=1',mae, rmse)\n",
    "\n",
    "\n",
    "reg4 = SVR(kernel='rbf',C=0.1)\n",
    "reg4.fit(trainX, trainY)\n",
    "prediction = reg4.predict(testX)\n",
    "\n",
    "mae = mean_absolute_error(testY, prediction)\n",
    "mse = mean_squared_error(testY, prediction)\n",
    "rmse = np.sqrt(mse)\n",
    "\n",
    "print('rbf C=0.1',mae, rmse)"
   ]
  },
  {
   "cell_type": "code",
   "execution_count": 6,
   "metadata": {},
   "outputs": [
    {
     "name": "stdout",
     "output_type": "stream",
     "text": [
      "sigmoid C=1 56514.1785388 79839.0216812\n",
      "sigmoid C=0.1 56514.1785388 79839.0216812\n"
     ]
    }
   ],
   "source": [
    "reg5 = SVR(kernel='sigmoid',C=1)\n",
    "reg5.fit(trainX, trainY)\n",
    "prediction = reg5.predict(testX)\n",
    "\n",
    "mae = mean_absolute_error(testY, prediction)\n",
    "mse = mean_squared_error(testY, prediction)\n",
    "rmse = np.sqrt(mse)\n",
    "\n",
    "print('sigmoid C=1',mae, rmse)\n",
    "\n",
    "reg6 = SVR(kernel='sigmoid',C=0.1)\n",
    "reg6.fit(trainX, trainY)\n",
    "prediction = reg6.predict(testX)\n",
    "\n",
    "mae = mean_absolute_error(testY, prediction)\n",
    "mse = mean_squared_error(testY, prediction)\n",
    "rmse = np.sqrt(mse)\n",
    "\n",
    "print('sigmoid C=0.1',mae, rmse)"
   ]
  },
  {
   "cell_type": "code",
   "execution_count": null,
   "metadata": {
    "collapsed": true
   },
   "outputs": [],
   "source": []
  }
 ],
 "metadata": {
  "kernelspec": {
   "display_name": "Python 3",
   "language": "python",
   "name": "python3"
  },
  "language_info": {
   "codemirror_mode": {
    "name": "ipython",
    "version": 3
   },
   "file_extension": ".py",
   "mimetype": "text/x-python",
   "name": "python",
   "nbconvert_exporter": "python",
   "pygments_lexer": "ipython3",
   "version": "3.6.3"
  }
 },
 "nbformat": 4,
 "nbformat_minor": 2
}
