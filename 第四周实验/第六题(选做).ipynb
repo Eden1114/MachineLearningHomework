{
 "cells": [
  {
   "cell_type": "markdown",
   "metadata": {},
   "source": [
    "# 第六题(选做)：设计一种改良的优化算法\n",
    "\n",
    "实验内容：\n",
    "请你设计一个改进算法，能通过动态调整学习率显著提升收敛速度。\n",
    "1. 数据集不限\n",
    "2. 激活函数不限\n",
    "3. 损失函数不限\n",
    "\n",
    "要求给出以下内容的总结：\n",
    "1. 数据集描述\n",
    "2. 预处理方法及步骤\n",
    "3. 模型架构：层数，激活函数，损失函数\n",
    "4. 神经网络超参数：学习率，迭代轮数\n",
    "5. 训练集和测试集精度\n",
    "6. 损失值变化曲线\n",
    "7. 代码注释"
   ]
  },
  {
   "cell_type": "code",
   "execution_count": null,
   "metadata": {},
   "outputs": [],
   "source": [
    "# YOUR CODE HERE\n",
    "\n",
    "\n",
    "\n"
   ]
  }
 ],
 "metadata": {
  "kernelspec": {
   "display_name": "Python 3",
   "language": "python",
   "name": "python3"
  },
  "language_info": {
   "codemirror_mode": {
    "name": "ipython",
    "version": 3
   },
   "file_extension": ".py",
   "mimetype": "text/x-python",
   "name": "python",
   "nbconvert_exporter": "python",
   "pygments_lexer": "ipython3",
   "version": "3.6.5"
  }
 },
 "nbformat": 4,
 "nbformat_minor": 2
}
