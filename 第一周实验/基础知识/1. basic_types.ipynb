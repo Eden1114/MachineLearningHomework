{
 "cells": [
  {
   "cell_type": "markdown",
   "metadata": {},
   "source": [
    "# 1. 基本类型"
   ]
  },
  {
   "cell_type": "markdown",
   "metadata": {},
   "source": [
    "python中不需要声明变量的类型  \n",
    "常见的基本类型有int, float, bool, NoneType, str"
   ]
  },
  {
   "cell_type": "code",
   "execution_count": null,
   "metadata": {},
   "outputs": [],
   "source": [
    "a = 1\n",
    "b = 0.5\n",
    "c = True\n",
    "d = None\n",
    "e = \"String\""
   ]
  },
  {
   "cell_type": "markdown",
   "metadata": {},
   "source": [
    "可以使用print()函数打印变量，默认在打印内容结尾处换行"
   ]
  },
  {
   "cell_type": "code",
   "execution_count": null,
   "metadata": {},
   "outputs": [],
   "source": [
    "print(a)\n",
    "print(b)\n",
    "print(c)\n",
    "print(d)\n",
    "print(e)"
   ]
  },
  {
   "cell_type": "markdown",
   "metadata": {},
   "source": [
    "print中支持多个参数，可用逗号隔开  \n",
    "打印结果被空格隔开"
   ]
  },
  {
   "cell_type": "code",
   "execution_count": null,
   "metadata": {},
   "outputs": [],
   "source": [
    "print(a, b)\n",
    "print(c, d, e)"
   ]
  },
  {
   "cell_type": "markdown",
   "metadata": {},
   "source": [
    "一个变量名可以被反复赋值，而且不限类型"
   ]
  },
  {
   "cell_type": "code",
   "execution_count": null,
   "metadata": {},
   "outputs": [],
   "source": [
    "a = 1\n",
    "print(a)\n",
    "\n",
    "a = 2\n",
    "print(a)\n",
    "\n",
    "a = None\n",
    "print(a)"
   ]
  },
  {
   "cell_type": "markdown",
   "metadata": {},
   "source": [
    "使用type()函数查看变量类型"
   ]
  },
  {
   "cell_type": "code",
   "execution_count": null,
   "metadata": {},
   "outputs": [],
   "source": [
    "print(type(a))\n",
    "print(type(b))\n",
    "print(type(c))\n",
    "print(type(d))\n",
    "print(type(e))"
   ]
  },
  {
   "cell_type": "markdown",
   "metadata": {},
   "source": [
    "在python3中，int类型和float类型是没有限制大小的，即它的长度只受限于机器的内存"
   ]
  },
  {
   "cell_type": "code",
   "execution_count": null,
   "metadata": {},
   "outputs": [],
   "source": [
    "a = 10000000000000000000000000000000000000000000000000000000000000000000000000000000000000000\n",
    "print(a)\n",
    "print(type(a))"
   ]
  },
  {
   "cell_type": "markdown",
   "metadata": {},
   "source": [
    "int和float类型支持加减乘除、乘方、求余等操作  \n",
    "与c、java不同的是，python3中的除法，结果为float类型，与做除法的两个变量的类型无关"
   ]
  },
  {
   "cell_type": "code",
   "execution_count": null,
   "metadata": {},
   "outputs": [],
   "source": [
    "a = 3\n",
    "b = 2\n",
    "c = 1.5\n",
    "print(a + b) # 3 + 2\n",
    "print(a + c) # 3 + 1.5\n",
    "print(a * c) # 3 * 1.5\n",
    "print(a / b) # 3 / 2\n",
    "print(a / c) # 3 / 1.5\n",
    "print(a**2)  # a^2\n",
    "print(a**3)  # a^3\n",
    "print(a % b) # a % b\n",
    "print(b % c) # b % c"
   ]
  },
  {
   "cell_type": "markdown",
   "metadata": {},
   "source": [
    "与、或、非 在python中分别为and, or, not"
   ]
  },
  {
   "cell_type": "code",
   "execution_count": null,
   "metadata": {},
   "outputs": [],
   "source": [
    "print(1 < 2 and 2 < 3)\n",
    "print(1 < 2 and 2 > 3)\n",
    "print(1 < 2 or 2 > 3)\n",
    "print(1 > 2 or 2 > 3)\n",
    "print(not 1 > 2)"
   ]
  },
  {
   "cell_type": "code",
   "execution_count": null,
   "metadata": {},
   "outputs": [],
   "source": []
  }
 ],
 "metadata": {
  "kernelspec": {
   "display_name": "Python 3",
   "language": "python",
   "name": "python3"
  },
  "language_info": {
   "codemirror_mode": {
    "name": "ipython",
    "version": 3
   },
   "file_extension": ".py",
   "mimetype": "text/x-python",
   "name": "python",
   "nbconvert_exporter": "python",
   "pygments_lexer": "ipython3",
   "version": "3.6.5"
  }
 },
 "nbformat": 4,
 "nbformat_minor": 2
}
