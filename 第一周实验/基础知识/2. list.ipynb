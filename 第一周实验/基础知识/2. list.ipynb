{
 "cells": [
  {
   "cell_type": "markdown",
   "metadata": {},
   "source": [
    "# 2. list（列表）"
   ]
  },
  {
   "cell_type": "markdown",
   "metadata": {},
   "source": [
    "list是python中最简单，最基础的容器类型，它的特征是一对中括号[ ]  \n",
    "list中的元素可以是同类型的，也可以是不同类型的"
   ]
  },
  {
   "cell_type": "code",
   "execution_count": null,
   "metadata": {
    "collapsed": true
   },
   "outputs": [],
   "source": [
    "# list的初始化\n",
    "a = []\n",
    "print(a)\n",
    "\n",
    "a = list()\n",
    "print(a)\n",
    "\n",
    "a = [1, 2, 3]\n",
    "print(a)\n",
    "\n",
    "a = [1, 2, None, True, \"String\"]\n",
    "print(a)"
   ]
  },
  {
   "cell_type": "markdown",
   "metadata": {},
   "source": [
    "在不考虑内存大小的情况下，list内的空间是无限大的，我们使用len()函数，获取一个列表的长度"
   ]
  },
  {
   "cell_type": "code",
   "execution_count": null,
   "metadata": {
    "collapsed": true
   },
   "outputs": [],
   "source": [
    "print(len(a)) #列表a的长度\n",
    "\n",
    "print(len([])) # 空列表的长度\n",
    "\n",
    "print(len(list())) # 空列表的长度"
   ]
  },
  {
   "cell_type": "markdown",
   "metadata": {},
   "source": [
    "在python中，访问列表中的元素使用它的index  \n",
    "使用list[index]访问第index+1个元素"
   ]
  },
  {
   "cell_type": "code",
   "execution_count": null,
   "metadata": {
    "collapsed": true
   },
   "outputs": [],
   "source": [
    "print(a)\n",
    "print(a[0])\n",
    "print(a[1])\n",
    "print(a[2])\n",
    "print(a[3])\n",
    "print(a[4])\n",
    "print(a[5]) # 越界"
   ]
  },
  {
   "cell_type": "markdown",
   "metadata": {},
   "source": [
    "在python中，可以对列表进行切片(slice)，截取多个元素  \n",
    "list[start: end: step_size]  \n",
    "需要注意的是，start指向的元素会被选中，从start到end-1都会被选中，end指向的元素不会被选中  \n",
    "step_size不指定时，默认为1，即从start到end-1每个元素都被选中，放入新列表中返回"
   ]
  },
  {
   "cell_type": "code",
   "execution_count": null,
   "metadata": {
    "collapsed": true
   },
   "outputs": [],
   "source": [
    "print(a)\n",
    "print(a[:])    # 不指定start和end时，默认为0和len(a)，即取列表中的所有元素，并返回一个新列表\n",
    "print(a[0:])   # 从第1个元素到最后一个元素\n",
    "print(a[2:])   # 从第3个元素到最后一个元素\n",
    "print(a[1:5])  # 从第2个元素到第5个元素(index为4)\n",
    "print(a[:-1])  # 从第1个元素到倒数第2个元素\n",
    "print(a[:-3])  # 从第1个元素到倒数第4个元素\n",
    "print(a[::1])  # 从第1个元素到最后一个元素，每个元素都取\n",
    "print(a[::2])  # 从第1个元素到最后一个元素，每隔1个元素取一次\n",
    "print(a[1::2]) # 从第2个元素到最有一个元素，每隔1个元素取一次"
   ]
  },
  {
   "cell_type": "markdown",
   "metadata": {},
   "source": [
    "### test1: 同样的道理，在取元素的时候，index也可以为负数  \n",
    "尝试取列表a中的倒数第3个元素，将其存入b中"
   ]
  },
  {
   "cell_type": "code",
   "execution_count": 1,
   "metadata": {},
   "outputs": [
    {
     "name": "stdout",
     "output_type": "stream",
     "text": [
      "None\n"
     ]
    }
   ],
   "source": [
    "a = [1, 2, None, True, \"String\"]\n",
    "# 尝试取列表a中的倒数第3个元素，将其存入b中\n",
    "# ------start code------\n",
    "b = a[-3]\n",
    "\n",
    "# ------end code------\n",
    "print(b)"
   ]
  },
  {
   "cell_type": "markdown",
   "metadata": {},
   "source": [
    "列表是一种类型，是python内置的类型，该类型有很多常用的方法(method)  \n",
    "比如：添加元素，删除元素，对列表进行排序，查找一个值第一次出现的位置"
   ]
  },
  {
   "cell_type": "code",
   "execution_count": null,
   "metadata": {
    "collapsed": true
   },
   "outputs": [],
   "source": [
    "# 在列表的末尾插入一个元素\n",
    "print('before append an element:')\n",
    "print(a)\n",
    "a.append(\"new element\")\n",
    "print('after append an element:')\n",
    "print(a)"
   ]
  },
  {
   "cell_type": "code",
   "execution_count": null,
   "metadata": {
    "collapsed": true
   },
   "outputs": [],
   "source": [
    "# 在列表的任意位置插入一个元素\n",
    "print('before insert an element:')\n",
    "print(a)\n",
    "a.insert(1, \"new element2\") # 在下标(index)为1的地方插入一个字符串\"new element2\"\n",
    "print('after insert an element:')\n",
    "print(a)"
   ]
  },
  {
   "cell_type": "code",
   "execution_count": null,
   "metadata": {
    "collapsed": true
   },
   "outputs": [],
   "source": [
    "# 删除第二个元素，并返回\n",
    "print(\"before delete the second element:\")\n",
    "print(a)\n",
    "b = a.pop(1) # 删除第二个元素，index为1，并返回，赋值给b\n",
    "print(\"after delete the second element:\")\n",
    "print(a)\n",
    "print(\"the second element in list a before delete:\", b)"
   ]
  },
  {
   "cell_type": "code",
   "execution_count": null,
   "metadata": {
    "collapsed": true
   },
   "outputs": [],
   "source": [
    "# 删除第一次出现的一个元素\n",
    "a = [1, 2, 3, 1, 2]\n",
    "print(a)\n",
    "a.remove(1) # 删除从左到右第一个出现的1\n",
    "print(a)\n",
    "a.remove(1) # 删除从左到右第一个出现的1\n",
    "print(a)"
   ]
  },
  {
   "cell_type": "code",
   "execution_count": null,
   "metadata": {
    "collapsed": true
   },
   "outputs": [],
   "source": [
    "# 对列表进行原地排序\n",
    "a = [5, 3, 1, 4, 7, 3, 9, 0]\n",
    "a.sort() # 对a进行从小打大排序\n",
    "print(a)\n",
    "a.sort(reverse = True) # 对a进行从大到小排序\n",
    "print(a)"
   ]
  },
  {
   "cell_type": "code",
   "execution_count": null,
   "metadata": {
    "collapsed": true
   },
   "outputs": [],
   "source": [
    "# 查找第一次出现的一个值\n",
    "a = [1, 2, 3, 4, 1, 2, 3, 4]\n",
    "print(a.index(2)) # 打印出从左到右，2这个元素第一次出现的index值"
   ]
  },
  {
   "cell_type": "markdown",
   "metadata": {},
   "source": [
    "还可以使用help()函数查看文档"
   ]
  },
  {
   "cell_type": "code",
   "execution_count": null,
   "metadata": {
    "collapsed": true
   },
   "outputs": [],
   "source": [
    "help(list) # 使用help函数，查看list的文档"
   ]
  },
  {
   "cell_type": "markdown",
   "metadata": {},
   "source": [
    "方法名前后有两个下划线的，称为魔术方法（magic methods），属于python的高级技巧  \n",
    "\n",
    "list里的其他方法：  \n",
    "1. clear：清空列表  \n",
    "a.clear() 即清空a  \n",
    "\n",
    "2. copy：复制当前列表并返回  \n",
    "a.copy() 赋值列表a并返回  \n",
    "\n",
    "3. count：返回一个指定的元素在列表中的出现次数  \n",
    "a.count(b) 返回列表a中b的出现次数  \n",
    "\n",
    "4. extend：将另一个可迭代的元素里面的所有元素添加到当前的列表中  \n",
    "a.extend(b)  b是一个列表，将b中的元素扩展到a中  \n",
    "\n",
    "5. reverse: 原地转置  \n",
    "a.reverse() 将a中的元素前后转置  "
   ]
  },
  {
   "cell_type": "markdown",
   "metadata": {},
   "source": [
    "### test2: 在下方尝试上面的这5个方法"
   ]
  },
  {
   "cell_type": "code",
   "execution_count": 2,
   "metadata": {},
   "outputs": [
    {
     "name": "stdout",
     "output_type": "stream",
     "text": [
      "[]\n"
     ]
    }
   ],
   "source": [
    "a = [1, 2, 3, 4, 5]\n",
    "# 在下方使用clear方法\n",
    "# ------start code------\n",
    "a.clear()\n",
    "\n",
    "# ------end code------\n",
    "print(a)"
   ]
  },
  {
   "cell_type": "code",
   "execution_count": 3,
   "metadata": {},
   "outputs": [
    {
     "name": "stdout",
     "output_type": "stream",
     "text": [
      "[1, 2, 3, 4, 5]\n"
     ]
    }
   ],
   "source": [
    "a = [1, 2, 3, 4, 5]\n",
    "# 在下方使用copy方法，复制给b\n",
    "# ------start code------\n",
    "b = a.copy()\n",
    "\n",
    "# ------end code------\n",
    "print(b)"
   ]
  },
  {
   "cell_type": "code",
   "execution_count": 4,
   "metadata": {},
   "outputs": [
    {
     "name": "stdout",
     "output_type": "stream",
     "text": [
      "4\n"
     ]
    }
   ],
   "source": [
    "a = [1, 2, 3, 4, 5, 1, 3, 6, 2, 4, 1, 4, 2, 6, 8, 2]\n",
    "# 在下方使用count方法，数出列表a内2的个数\n",
    "# ------start code------\n",
    "number = a.count(2)\n",
    "\n",
    "# ------end code------\n",
    "print(number)"
   ]
  },
  {
   "cell_type": "code",
   "execution_count": 5,
   "metadata": {},
   "outputs": [
    {
     "name": "stdout",
     "output_type": "stream",
     "text": [
      "[1, 2, 3, 4, 5, 6, 2, 4, 1, 6, 0]\n",
      "[6, 2, 4, 1, 6, 0]\n"
     ]
    }
   ],
   "source": [
    "a = [1, 2, 3, 4, 5]\n",
    "b = [6, 2, 4, 1, 6, 0]\n",
    "# 在下方使用extend方法，将b中的元素扩展到a中\n",
    "# ------start code------\n",
    "a.extend(b)\n",
    "\n",
    "# ------end code------\n",
    "print(a)\n",
    "print(b)"
   ]
  },
  {
   "cell_type": "code",
   "execution_count": 6,
   "metadata": {},
   "outputs": [
    {
     "name": "stdout",
     "output_type": "stream",
     "text": [
      "[2, 8, 6, 2, 4, 1, 4, 2, 6, 3, 1, 5, 4, 3, 2, 1]\n"
     ]
    }
   ],
   "source": [
    "a = [1, 2, 3, 4, 5, 1, 3, 6, 2, 4, 1, 4, 2, 6, 8, 2]\n",
    "# 在下方使用reverse方法，将a中的元素转置\n",
    "# ------start code------\n",
    "a.reverse()\n",
    "\n",
    "# ------end code------\n",
    "print(a)"
   ]
  },
  {
   "cell_type": "markdown",
   "metadata": {},
   "source": [
    "### test3: 与刚才的len()函数类似，python还内置了很多类似的函数，比如max(), min()  \n",
    "max()用来求一个可迭代对象中的最大值，如max(a)  \n",
    "min()用来求一个可迭代对象中的最小值，如min(a)  \n",
    "在下方使用max函数，将a中的最大值存到max_value中，使用min函数，将最小值存到min_value中"
   ]
  },
  {
   "cell_type": "code",
   "execution_count": 8,
   "metadata": {},
   "outputs": [
    {
     "name": "stdout",
     "output_type": "stream",
     "text": [
      "8\n",
      "1\n"
     ]
    }
   ],
   "source": [
    "a = [1, 2, 3, 4, 5, 1, 3, 6, 2, 4, 1, 4, 2, 6, 8, 2]\n",
    "# 在下方使用max函数，将a中的最大值存到max_value中，使用min函数，将最小值存到min_value中\n",
    "# ------start code------\n",
    "max_value = max(a)\n",
    "min_value = min(a)\n",
    "# ------end code------\n",
    "print(max_value)\n",
    "print(min_value)"
   ]
  },
  {
   "cell_type": "code",
   "execution_count": null,
   "metadata": {
    "collapsed": true
   },
   "outputs": [],
   "source": []
  }
 ],
 "metadata": {
  "kernelspec": {
   "display_name": "Python 3",
   "language": "python",
   "name": "python3"
  },
  "language_info": {
   "codemirror_mode": {
    "name": "ipython",
    "version": 3
   },
   "file_extension": ".py",
   "mimetype": "text/x-python",
   "name": "python",
   "nbconvert_exporter": "python",
   "pygments_lexer": "ipython3",
   "version": "3.6.3"
  },
  "widgets": {
   "application/vnd.jupyter.widget-state+json": {
    "state": {},
    "version_major": 2,
    "version_minor": 0
   }
  }
 },
 "nbformat": 4,
 "nbformat_minor": 2
}
